{
 "cells": [
  {
   "cell_type": "code",
   "execution_count": 1,
   "id": "5852ee04",
   "metadata": {},
   "outputs": [],
   "source": [
    "#Import required libraries\n",
    "import pandas as pd\n",
    "import numpy as np\n",
    "from sklearn.manifold import TSNE\n",
    "from sklearn import preprocessing\n",
    "from __future__ import print_function\n",
    "from sklearn.decomposition import PCA\n",
    "from sklearn.model_selection import train_test_split\n",
    "from sklearn.metrics import confusion_matrix\n",
    "from sklearn.metrics import precision_score, recall_score, f1_score, accuracy_score\n",
    "from sklearn.metrics import classification_report,confusion_matrix\n",
    "from sklearn.svm import SVC\n",
    "from sklearn import mixture\n",
    "from sklearn.linear_model import LogisticRegression\n",
    "import sklearn as sk\n",
    "from sklearn.neural_network import MLPClassifier\n",
    "from sklearn.ensemble import RandomForestClassifier\n",
    "import random\n",
    "import seaborn as sns\n",
    "import matplotlib.pyplot as plt\n",
    "from mpl_toolkits.mplot3d import Axes3D"
   ]
  },
  {
   "cell_type": "code",
   "execution_count": 2,
   "id": "6867bebf",
   "metadata": {},
   "outputs": [],
   "source": [
    "#Loading Data\n",
    "Demographic = pd.read_csv(\"data/Demographic.csv\")\n",
    "Clean_Demographic = pd.read_csv(\"data/Clean_Demographic.csv\")\n",
    "WClean_Demographic = pd.read_csv(\"data/WClean_Demographic.csv\")"
   ]
  },
  {
   "cell_type": "code",
   "execution_count": 3,
   "id": "c0179a74",
   "metadata": {},
   "outputs": [],
   "source": [
    "# Post processing of Data\n",
    "Clean_Demographic[\"HOUSING\"]  = Clean_Demographic[\"HOUSING\"].replace({'NAN': 'unknown' })\n",
    "Clean_Demographic[\"EDUCATION\"]  = Clean_Demographic[\"EDUCATION\"].replace({'Secondary school': 'School',\n",
    "    'Primary school': 'School', 'High school': 'School', 'Middle school': 'School','NAN': 'unknown' })\n",
    "Clean_Demographic[\"JOB_TYPE\"]  = Clean_Demographic[\"JOB_TYPE\"].replace({'unemployed': 'Unemployed', 'NAN':'unknown' })\n",
    "\n",
    "WClean_Demographic[\"HOUSING\"]  = WClean_Demographic[\"HOUSING\"].replace({'NAN': 'unknown' })\n",
    "WClean_Demographic[\"EDUCATION\"]  = WClean_Demographic[\"EDUCATION\"].replace({'Secondary school': 'School', \n",
    "    'Primary school': 'School', 'High school': 'School', 'Middle school': 'School','NAN': 'unknown' })\n",
    "WClean_Demographic[\"JOB_TYPE\"]  = WClean_Demographic[\"JOB_TYPE\"].replace({'unemployed': 'Unemployed', 'NAN':'unknown' })"
   ]
  },
  {
   "cell_type": "code",
   "execution_count": 4,
   "id": "d5748f25",
   "metadata": {},
   "outputs": [],
   "source": [
    "# Make the data vlaues numerical\n",
    "columns = ['ACCOUNT_TYPE','GENDER', 'MARITAL_STATUS', 'EDUCATION', 'JOB_TYPE', 'HOUSING', 'LOAN']\n",
    "\n",
    "Clean_Demographic_num = Clean_Demographic \n",
    "Clean_Demographic_num[columns] = Clean_Demographic_num[columns].apply(lambda col: pd.factorize(col, sort=False)[0])\n",
    "\n",
    "WClean_Demographic_num = WClean_Demographic \n",
    "WClean_Demographic_num[columns] = WClean_Demographic_num[columns].apply(lambda col: pd.factorize(col, sort=False)[0])"
   ]
  },
  {
   "cell_type": "code",
   "execution_count": 5,
   "id": "57261dfd",
   "metadata": {},
   "outputs": [],
   "source": [
    "# Normalizing each column (feature values) of data\n",
    "min_max_scaler = preprocessing.MinMaxScaler()\n",
    "for i in range(1,10): # \"ACCOUNT_TYPE\" to \"LOAN\" columns\n",
    "    Clean_Demographic_num.iloc[:,i] = pd.DataFrame(min_max_scaler.fit_transform(Clean_Demographic_num.iloc[:,i].values.reshape(-1, 1)))\n",
    "    WClean_Demographic_num.iloc[:,i] = pd.DataFrame(min_max_scaler.fit_transform(WClean_Demographic_num.iloc[:,i].values.reshape(-1, 1)))"
   ]
  },
  {
   "cell_type": "code",
   "execution_count": 6,
   "id": "c1a60953",
   "metadata": {
    "scrolled": true
   },
   "outputs": [],
   "source": [
    "# Classification\n",
    "# Diving data to its values and labels\n",
    "X = WClean_Demographic_num.iloc[:, 1:10].values\n",
    "X0 = WClean_Demographic_num[WClean_Demographic_num['default payment in Jan 2022'] == 0].iloc[:, 1:10].values\n",
    "X1 = WClean_Demographic_num[WClean_Demographic_num['default payment in Jan 2022'] == 1].iloc[:, 1:10].values\n",
    "\n",
    "y= WClean_Demographic_num.iloc[:, -1].values\n",
    "y0 =  WClean_Demographic_num[WClean_Demographic_num['default payment in Jan 2022'] == 0].iloc[:, -1].values\n",
    "y1 =  WClean_Demographic_num[WClean_Demographic_num['default payment in Jan 2022'] == 1].iloc[:, -1].values"
   ]
  },
  {
   "cell_type": "code",
   "execution_count": 7,
   "id": "dca571d0",
   "metadata": {},
   "outputs": [],
   "source": [
    "#Spliting data to train and test sets\n",
    "X0_train, X0_test, y0_train, y0_test = train_test_split(X0, y0)\n",
    "X1_train, X1_test, y1_train, y1_test = train_test_split(X1, y1)"
   ]
  },
  {
   "cell_type": "code",
   "execution_count": 8,
   "id": "b2cfcff4",
   "metadata": {},
   "outputs": [],
   "source": [
    "C0_trs = len(y0_train) # class 0 train size\n",
    "C0_tes = len(y0_test)  # class 0 test size\n",
    "\n",
    "C1_trs = len(y1_train) # class 1 train size\n",
    "C1_tes = len(y1_test)  # class 1 test size\n",
    "\n",
    "#Shuffle class 0 \n",
    "train_ri0 = np.random.choice(C0_trs, size=C1_trs, replace=False) #Class 0 Train random_indices\n",
    "test_ri0 = np.random.choice(C0_tes, size=C1_tes, replace=False) #Class 0 Test random_indices\n",
    "\n",
    "#Making balanced training set\n",
    "X_train = np.concatenate((X0_train[train_ri0,:],X1_train), axis=0)\n",
    "y_train = np.concatenate((y0_train[train_ri0],y1_train), axis=0)\n",
    "\n",
    "#Making balanced test set\n",
    "X_test = np.concatenate((X0_test[test_ri0,:],X1_test), axis=0)\n",
    "y_test = np.concatenate((y0_test[test_ri0],y1_test), axis=0)"
   ]
  },
  {
   "cell_type": "code",
   "execution_count": 9,
   "id": "fdf6ecab",
   "metadata": {},
   "outputs": [],
   "source": [
    "# Support Vector Machine\n",
    "#Defining SVM kernel ()\n",
    "kernels = ['linear', 'poly', 'rbf', 'sigmoid']\n",
    "\n",
    "model = SVC(kernel = kernels[2]) #RBF kernel\n",
    "#Training the model\n",
    "model.fit(X_train, y_train)\n",
    "\n",
    "#Testing the model\n",
    "y_pred = model.predict(X_test)"
   ]
  },
  {
   "cell_type": "code",
   "execution_count": 10,
   "id": "1363e8cb",
   "metadata": {},
   "outputs": [
    {
     "data": {
      "image/png": "[encoded data removed]",
      "text/plain": [
       "<Figure size 360x360 with 1 Axes>"
      ]
     },
     "metadata": {
      "needs_background": "light"
     },
     "output_type": "display_data"
    },
    {
     "name": "stdout",
     "output_type": "stream",
     "text": [
      "SVM:\n",
      "\n",
      "               precision    recall  f1-score   support\n",
      "\n",
      "           0       0.82      0.75      0.78       717\n",
      "           1       0.77      0.83      0.80       717\n",
      "\n",
      "    accuracy                           0.79      1434\n",
      "   macro avg       0.79      0.79      0.79      1434\n",
      "weighted avg       0.79      0.79      0.79      1434\n",
      "\n"
     ]
    }
   ],
   "source": [
    "#Calculating and ploting the confusion matrix\n",
    "conf_matrix = confusion_matrix(y_true=y_test, y_pred=y_pred)\n",
    "fig, ax = plt.subplots(figsize=(5, 5))\n",
    "ax.matshow(conf_matrix, cmap=plt.cm.Oranges, alpha=0.4)\n",
    "for i in range(conf_matrix.shape[0]):\n",
    "    for j in range(conf_matrix.shape[1]):\n",
    "        ax.text(x=j, y=i,s=conf_matrix[i, j], va='center', ha='center', size='x-large')\n",
    "\n",
    "plt.xlabel('Predictions', fontsize=12)\n",
    "plt.ylabel('Actuals', fontsize=12)\n",
    "plt.title('SVM Confusion Matrix', fontsize=12)\n",
    "plt.show()\n",
    "\n",
    "#Reporting the results\n",
    "Precision = precision_score(y_test, y_pred)\n",
    "Recall = recall_score(y_test, y_pred)\n",
    "F1_score = f1_score(y_test, y_pred)\n",
    "Accuracy = accuracy_score(y_test, y_pred)\n",
    "print('SVM:\\n\\n',classification_report(y_test,y_pred))"
   ]
  },
  {
   "cell_type": "code",
   "execution_count": 11,
   "id": "8eb2acaf",
   "metadata": {},
   "outputs": [
    {
     "data": {
      "image/png": "[encoded data removed]",
      "text/plain": [
       "<Figure size 360x360 with 1 Axes>"
      ]
     },
     "metadata": {
      "needs_background": "light"
     },
     "output_type": "display_data"
    },
    {
     "name": "stdout",
     "output_type": "stream",
     "text": [
      "LOGISTIC Regression:\n",
      "\n",
      "               precision    recall  f1-score   support\n",
      "\n",
      "           0       0.70      0.82      0.75       717\n",
      "           1       0.78      0.65      0.71       717\n",
      "\n",
      "    accuracy                           0.73      1434\n",
      "   macro avg       0.74      0.73      0.73      1434\n",
      "weighted avg       0.74      0.73      0.73      1434\n",
      "\n"
     ]
    }
   ],
   "source": [
    "# LOGISTIC Regression\n",
    "LR = LogisticRegression(random_state=0, solver='liblinear', multi_class='ovr').fit(X_train, y_train)\n",
    "# solver = ['newton-cg', 'lbfgs', 'liblinear', 'sag', 'saga'], default='lbfgs'\n",
    "y_pred = LR.predict(X_test)\n",
    "\n",
    "#Calculating and ploting the confusion matrix\n",
    "conf_matrix = confusion_matrix(y_true=y_test, y_pred=y_pred)\n",
    "fig, ax = plt.subplots(figsize=(5, 5))\n",
    "ax.matshow(conf_matrix, cmap=plt.cm.Oranges, alpha=0.4)\n",
    "for i in range(conf_matrix.shape[0]):\n",
    "    for j in range(conf_matrix.shape[1]):\n",
    "        ax.text(x=j, y=i,s=conf_matrix[i, j], va='center', ha='center', size='x-large')\n",
    "\n",
    "plt.xlabel('Predictions', fontsize=12)\n",
    "plt.ylabel('Actuals', fontsize=12)\n",
    "plt.title('Logistic Regression Confusion Matrix', fontsize=12)\n",
    "plt.show()\n",
    "\n",
    "#Reporting the results\n",
    "print('LOGISTIC Regression:\\n\\n',classification_report(y_test,y_pred))"
   ]
  },
  {
   "cell_type": "code",
   "execution_count": 12,
   "id": "96f78f26",
   "metadata": {},
   "outputs": [
    {
     "data": {
      "image/png": "[encoded data removed]",
      "text/plain": [
       "<Figure size 360x360 with 1 Axes>"
      ]
     },
     "metadata": {
      "needs_background": "light"
     },
     "output_type": "display_data"
    },
    {
     "name": "stdout",
     "output_type": "stream",
     "text": [
      "Random Forest:\n",
      "\n",
      "               precision    recall  f1-score   support\n",
      "\n",
      "           0       0.75      0.83      0.79       717\n",
      "           1       0.81      0.72      0.76       717\n",
      "\n",
      "    accuracy                           0.77      1434\n",
      "   macro avg       0.78      0.77      0.77      1434\n",
      "weighted avg       0.78      0.77      0.77      1434\n",
      "\n"
     ]
    }
   ],
   "source": [
    "# Random Forest\n",
    "RF = RandomForestClassifier(n_estimators=100, max_depth=2, random_state=0)\n",
    "RF.fit(X_train, y_train)\n",
    "y_pred = RF.predict(X_test)\n",
    "\n",
    "#Reporting the results\n",
    "#Calculating and ploting the confusion matrix\n",
    "conf_matrix = confusion_matrix(y_true=y_test, y_pred=y_pred)\n",
    "fig, ax = plt.subplots(figsize=(5, 5))\n",
    "ax.matshow(conf_matrix, cmap=plt.cm.Oranges, alpha=0.4)\n",
    "for i in range(conf_matrix.shape[0]):\n",
    "    for j in range(conf_matrix.shape[1]):\n",
    "        ax.text(x=j, y=i,s=conf_matrix[i, j], va='center', ha='center', size='x-large')\n",
    "\n",
    "plt.xlabel('Predictions', fontsize=12)\n",
    "plt.ylabel('Actuals', fontsize=12)\n",
    "plt.title('Random Forest Confusion Matrix', fontsize=12)\n",
    "plt.show()\n",
    "print('Random Forest:\\n\\n',classification_report(y_test,y_pred))"
   ]
  },
  {
   "cell_type": "code",
   "execution_count": 13,
   "id": "5f4cce39",
   "metadata": {},
   "outputs": [
    {
     "data": {
      "image/png": "[encoded data removed]",
      "text/plain": [
       "<Figure size 360x360 with 1 Axes>"
      ]
     },
     "metadata": {
      "needs_background": "light"
     },
     "output_type": "display_data"
    },
    {
     "name": "stdout",
     "output_type": "stream",
     "text": [
      "GMM Results:\n",
      "\n",
      "               precision    recall  f1-score   support\n",
      "\n",
      "           0       0.47      0.37      0.41       717\n",
      "           1       0.48      0.59      0.53       717\n",
      "\n",
      "    accuracy                           0.48      1434\n",
      "   macro avg       0.48      0.48      0.47      1434\n",
      "weighted avg       0.48      0.48      0.47      1434\n",
      "\n"
     ]
    }
   ],
   "source": [
    "#GMM\n",
    "gmm_model = mixture.GaussianMixture(n_components=2, covariance_type='diag') #['spherical', 'diag', 'tied', 'full']\n",
    "gmm_model.fit(X_train)\n",
    "y_pred = gmm_model.predict(X_test)\n",
    "\n",
    "#Reporting the results\n",
    "#Calculating and ploting the confusion matrix\n",
    "conf_matrix = confusion_matrix(y_true=y_test, y_pred=y_pred)\n",
    "fig, ax = plt.subplots(figsize=(5, 5))\n",
    "ax.matshow(conf_matrix, cmap=plt.cm.Oranges, alpha=0.4)\n",
    "for i in range(conf_matrix.shape[0]):\n",
    "    for j in range(conf_matrix.shape[1]):\n",
    "        ax.text(x=j, y=i,s=conf_matrix[i, j], va='center', ha='center', size='x-large')\n",
    "\n",
    "plt.xlabel('Predictions', fontsize=12)\n",
    "plt.ylabel('Actuals', fontsize=12)\n",
    "plt.title('GMM Regression Confusion Matrix', fontsize=12)\n",
    "plt.show()\n",
    "\n",
    "print('GMM Results:\\n\\n',classification_report(y_test,y_pred))"
   ]
  },
  {
   "cell_type": "code",
   "execution_count": 14,
   "id": "93c90bfb",
   "metadata": {},
   "outputs": [
    {
     "data": {
      "image/png": "[encoded data removed]",
      "text/plain": [
       "<Figure size 360x360 with 1 Axes>"
      ]
     },
     "metadata": {
      "needs_background": "light"
     },
     "output_type": "display_data"
    },
    {
     "name": "stdout",
     "output_type": "stream",
     "text": [
      "MLP Results:\n",
      "\n",
      "               precision    recall  f1-score   support\n",
      "\n",
      "           0       0.84      0.73      0.78       717\n",
      "           1       0.76      0.86      0.81       717\n",
      "\n",
      "    accuracy                           0.80      1434\n",
      "   macro avg       0.80      0.80      0.80      1434\n",
      "weighted avg       0.80      0.80      0.80      1434\n",
      "\n"
     ]
    }
   ],
   "source": [
    "# Multi Layer Perceptron (MLP)\n",
    "NN = MLPClassifier(solver='adam', alpha=1e-3, hidden_layer_sizes=(15, 2), activation='relu', random_state=1, batch_size= 16, max_iter =10000)\n",
    "#solver = ['lbfgs', 'sgd', 'adam'], default='adam'\n",
    "#activation = ['identity', 'logistic', 'tanh', 'relu'], default=’relu’\n",
    "NN.fit(X_train, y_train)\n",
    "y_pred = NN.predict(X_test)\n",
    "\n",
    "#Reporting the results\n",
    "#Calculating and ploting the confusion matrix\n",
    "conf_matrix = confusion_matrix(y_true=y_test, y_pred=y_pred)\n",
    "fig, ax = plt.subplots(figsize=(5, 5))\n",
    "ax.matshow(conf_matrix, cmap=plt.cm.Oranges, alpha=0.4)\n",
    "for i in range(conf_matrix.shape[0]):\n",
    "    for j in range(conf_matrix.shape[1]):\n",
    "        ax.text(x=j, y=i,s=conf_matrix[i, j], va='center', ha='center', size='x-large')\n",
    "\n",
    "plt.xlabel('Predictions', fontsize=12)\n",
    "plt.ylabel('Actuals', fontsize=12)\n",
    "plt.title('MLP Regression Confusion Matrix', fontsize=12)\n",
    "plt.show()\n",
    "\n",
    "print('MLP Results:\\n\\n',classification_report(y_test,y_pred))"
   ]
  },
  {
   "cell_type": "code",
   "execution_count": null,
   "id": "06b31fd3",
   "metadata": {},
   "outputs": [],
   "source": []
  }
 ],
 "metadata": {
  "kernelspec": {
   "display_name": "Python 3 (ipykernel)",
   "language": "python",
   "name": "python3"
  },
  "language_info": {
   "codemirror_mode": {
    "name": "ipython",
    "version": 3
   },
   "file_extension": ".py",
   "mimetype": "text/x-python",
   "name": "python",
   "nbconvert_exporter": "python",
   "pygments_lexer": "ipython3",
   "version": "3.8.10"
  }
 },
 "nbformat": 4,
 "nbformat_minor": 5
}
